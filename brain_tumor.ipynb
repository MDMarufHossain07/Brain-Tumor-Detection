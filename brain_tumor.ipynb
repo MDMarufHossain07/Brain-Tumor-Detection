{
  "nbformat": 4,
  "nbformat_minor": 0,
  "metadata": {
    "colab": {
      "name": "brain tumor.ipynb",
      "provenance": [],
      "collapsed_sections": [],
      "toc_visible": true,
      "authorship_tag": "ABX9TyOHPr9CsSUOjNO0FoH60ZrH",
      "include_colab_link": true
    },
    "kernelspec": {
      "name": "python3",
      "display_name": "Python 3"
    },
    "language_info": {
      "name": "python"
    }
  },
  "cells": [
    {
      "cell_type": "markdown",
      "metadata": {
        "id": "view-in-github",
        "colab_type": "text"
      },
      "source": [
        "<a href=\"https://colab.research.google.com/github/MDMarufHossain07/Brain-Tumor-Detection/blob/main/brain_tumor.ipynb\" target=\"_parent\"><img src=\"https://colab.research.google.com/assets/colab-badge.svg\" alt=\"Open In Colab\"/></a>"
      ]
    },
    {
      "cell_type": "code",
      "execution_count": null,
      "metadata": {
        "id": "oPm41b4c_o5P"
      },
      "outputs": [],
      "source": [
        "\n",
        "import numpy as np # linear algebra..\n",
        "import pandas as pd # data processing, CSV file I/O (e.g. pd.read_csv)\n",
        "# Input data files are available in the read-only \"../input/\" directory\n",
        "# For example, running this (by clicking run or pressing Shift+Enter) will list all files under the input directory\n",
        "\n",
        "import os\n",
        "# for dirname, _, filenames in os.walk('/kaggle/input'):\n",
        "#     for filename in filenames:\n",
        "#         print(os.path.join(dirname, filename))\n",
        "from sklearn.model_selection import train_test_split\n",
        "\n",
        "import tensorflow as tf\n",
        "from tensorflow import keras\n",
        "import cv2 as cv\n",
        "import glob as gb\n",
        "import matplotlib.pyplot as plt\n",
        "from keras.layers import Dense,Dropout,Conv2D,MaxPooling2D,BatchNormalization ,Flatten\n",
        "from keras.models import Sequential,Model\n",
        "from sklearn.utils import shuffle\n",
        "from keras.callbacks import EarlyStopping\n",
        "from keras.preprocessing.image import ImageDataGenerator\n",
        "from sklearn.metrics import classification_report\n",
        "from sklearn.metrics import confusion_matrix\n",
        "# You can write up to 20GB to the current directory (/kaggle/working/) that gets preserved as output when you create a version using \"Save & Run All\" \n",
        "# You can also write temporary files to /kaggle/temp/, but they won't be saved outside of the current session"
      ]
    },
    {
      "cell_type": "code",
      "source": [
        "from zipfile import ZipFile\n",
        "file_name= \"archive.zip\"\n",
        "with ZipFile(file_name,'r') as zip:\n",
        "  zip.extractall()\n",
        "  print()\n"
      ],
      "metadata": {
        "colab": {
          "base_uri": "https://localhost:8080/"
        },
        "id": "Ga1YbobaBjzQ",
        "outputId": "96339c9b-dd79-404b-ef55-42d9bc6fbe04"
      },
      "execution_count": null,
      "outputs": [
        {
          "output_type": "stream",
          "name": "stdout",
          "text": [
            "\n"
          ]
        }
      ]
    },
    {
      "cell_type": "code",
      "source": [
        "os.listdir('brain_tumor_dataset')"
      ],
      "metadata": {
        "colab": {
          "base_uri": "https://localhost:8080/"
        },
        "id": "u10Eff9FGqsw",
        "outputId": "074a5d78-c14f-456c-b930-44c2c112c2f2"
      },
      "execution_count": null,
      "outputs": [
        {
          "output_type": "execute_result",
          "data": {
            "text/plain": [
              "['yes', 'no']"
            ]
          },
          "metadata": {},
          "execution_count": 24
        }
      ]
    },
    {
      "cell_type": "code",
      "source": [
        "paths ={\n",
        "        'path' :'D:\\Projects\\Brain Tumor',\n",
        "        'train':'brain_tumor_dataset',\n",
        "        'test' :'D:\\Projects\\Brain Tumor'\n",
        "        }"
      ],
      "metadata": {
        "id": "flLehvccB7uo"
      },
      "execution_count": null,
      "outputs": []
    },
    {
      "cell_type": "code",
      "source": [
        "def get_size(path):\n",
        "    x =[]\n",
        "    for folder in os.listdir(path):\n",
        "       \n",
        "        files = gb.glob(pathname=str(path+'/'+folder+'/*.jpg'))\n",
        "        \n",
        "        for file in files:\n",
        "            img = plt.imread(file)\n",
        "           \n",
        "            x.append(img.shape)\n",
        "    return x"
      ],
      "metadata": {
        "id": "m0zsTU55CXq4"
      },
      "execution_count": null,
      "outputs": []
    },
    {
      "cell_type": "code",
      "source": [
        "train_size =get_size(paths['train'])\n",
        "pd.Series(train_size).value_counts()"
      ],
      "metadata": {
        "colab": {
          "base_uri": "https://localhost:8080/"
        },
        "id": "IQ3NNsLhCbsn",
        "outputId": "55652d86-b665-4b36-bbc6-c97b3a5dd582"
      },
      "execution_count": null,
      "outputs": [
        {
          "output_type": "execute_result",
          "data": {
            "text/plain": [
              "(225, 225, 3)    17\n",
              "(630, 630, 3)     5\n",
              "(251, 201, 3)     5\n",
              "(325, 300)        4\n",
              "(217, 232, 3)     3\n",
              "                 ..\n",
              "(380, 318, 3)     1\n",
              "(246, 205, 3)     1\n",
              "(222, 227, 3)     1\n",
              "(890, 700, 3)     1\n",
              "(218, 180, 3)     1\n",
              "Length: 115, dtype: int64"
            ]
          },
          "metadata": {},
          "execution_count": 30
        }
      ]
    },
    {
      "cell_type": "code",
      "source": [
        "code ={'no':0,'yes':1}\n",
        "def Load_Label_Data(path,image_size):\n",
        "    x = []\n",
        "    y = []\n",
        "    for folder in os.listdir(path):\n",
        "        files = gb.glob(pathname=path+'/'+folder+'/*.jpg')\n",
        "        for file in files:\n",
        "            img = cv.imread(file)\n",
        "            img = cv.resize(img,(image_size,image_size))\n",
        "            x.append(list(img))\n",
        "            del img\n",
        "            y.append(code[folder])\n",
        "    x = np.array(x)\n",
        "    y = np.array(y) \n",
        "    x,y = shuffle(x,y)\n",
        "    return x , y"
      ],
      "metadata": {
        "id": "yfqPGfCIHxkh"
      },
      "execution_count": null,
      "outputs": []
    },
    {
      "cell_type": "code",
      "source": [
        "image_size = 224\n",
        "X , y = Load_Label_Data(paths['train'],image_size)"
      ],
      "metadata": {
        "id": "_UbuSiACH3fS"
      },
      "execution_count": null,
      "outputs": []
    },
    {
      "cell_type": "code",
      "source": [
        "plt.imshow(X[0])\n",
        "plt.axis('off')\n",
        "plt.title(y[0])"
      ],
      "metadata": {
        "colab": {
          "base_uri": "https://localhost:8080/",
          "height": 281
        },
        "id": "Q3P9iEKmIEQe",
        "outputId": "267254f2-cffc-40bb-80d0-428c61761112"
      },
      "execution_count": null,
      "outputs": [
        {
          "output_type": "execute_result",
          "data": {
            "text/plain": [
              "Text(0.5, 1.0, '1')"
            ]
          },
          "metadata": {},
          "execution_count": 33
        },
        {
          "output_type": "display_data",
          "data": {
            "image/png": "[encoded data removed]",
            "text/plain": [
              "<Figure size 432x288 with 1 Axes>"
            ]
          },
          "metadata": {
            "needs_background": "light"
          }
        }
      ]
    },
    {
      "cell_type": "code",
      "source": [
        "X_train,X_test , y_train,y_test=train_test_split(X,y,test_size=.2,random_state=42)"
      ],
      "metadata": {
        "id": "uVv-LLS4IH4O"
      },
      "execution_count": null,
      "outputs": []
    },
    {
      "cell_type": "code",
      "source": [
        "print('y Train before Shape : ', y_train.shape )\n",
        "y_train = keras.utils.to_categorical(y_train,num_classes=2)\n",
        "print('y Train after Shape : ', y_train.shape )\n",
        "print('y Test before Shape : ', y_test.shape )\n",
        "y_test= keras.utils.to_categorical(y_test,num_classes=2)\n",
        "print('y Test after Shape : ', y_test.shape )"
      ],
      "metadata": {
        "colab": {
          "base_uri": "https://localhost:8080/"
        },
        "id": "BFzJlsBqILSB",
        "outputId": "be6d0c3a-c6a5-4f91-cd53-9cbbc2927386"
      },
      "execution_count": null,
      "outputs": [
        {
          "output_type": "stream",
          "name": "stdout",
          "text": [
            "y Train before Shape :  (136,)\n",
            "y Train after Shape :  (136, 2)\n",
            "y Test before Shape :  (35,)\n",
            "y Test after Shape :  (35, 2)\n"
          ]
        }
      ]
    },
    {
      "cell_type": "code",
      "source": [
        "from zipfile import ZipFile\n",
        "file_name= \"archive2.zip\"\n",
        "with ZipFile(file_name,'r') as zip:\n",
        "  zip.extractall()\n",
        "  print()\n"
      ],
      "metadata": {
        "colab": {
          "base_uri": "https://localhost:8080/"
        },
        "id": "-sf9pTJ5KfNW",
        "outputId": "65fd2235-e6e8-45a0-9c62-99f56db114e8"
      },
      "execution_count": null,
      "outputs": [
        {
          "output_type": "stream",
          "name": "stdout",
          "text": [
            "\n"
          ]
        }
      ]
    },
    {
      "cell_type": "code",
      "source": [
        "my_model = keras.models.load_model('vgg16-95-accuracy-brain.h5')"
      ],
      "metadata": {
        "id": "IAyoFmKXInyO"
      },
      "execution_count": null,
      "outputs": []
    },
    {
      "cell_type": "code",
      "source": [
        "my_model.summary()"
      ],
      "metadata": {
        "id": "1sArzce9Iqz_"
      },
      "execution_count": null,
      "outputs": []
    },
    {
      "cell_type": "code",
      "source": [
        "for layer in my_model.layers[:-1]:\n",
        "    layer.trainable =False\n",
        "my_model.fit(X_train,y_train,epochs=5,validation_split=.2,verbose=1)"
      ],
      "metadata": {
        "colab": {
          "base_uri": "https://localhost:8080/"
        },
        "id": "aUcWY-nFIrlz",
        "outputId": "6b3b4e8e-5a75-4087-c19b-ebab9d55055c"
      },
      "execution_count": null,
      "outputs": [
        {
          "output_type": "stream",
          "name": "stdout",
          "text": [
            "Epoch 1/5\n",
            "4/4 [==============================] - 62s 15s/step - loss: 0.8030 - accuracy: 0.8519 - val_loss: 1.2172 - val_accuracy: 0.4643\n",
            "Epoch 2/5\n",
            "4/4 [==============================] - 60s 15s/step - loss: 1.8288 - accuracy: 0.6667 - val_loss: 0.3848 - val_accuracy: 0.9643\n",
            "Epoch 3/5\n",
            "4/4 [==============================] - 60s 15s/step - loss: 0.1312 - accuracy: 0.9815 - val_loss: 0.4218 - val_accuracy: 0.9643\n",
            "Epoch 4/5\n",
            "4/4 [==============================] - 60s 15s/step - loss: 0.0332 - accuracy: 0.9907 - val_loss: 0.3781 - val_accuracy: 0.9643\n",
            "Epoch 5/5\n",
            "4/4 [==============================] - 60s 15s/step - loss: 0.0392 - accuracy: 0.9907 - val_loss: 0.2914 - val_accuracy: 0.9286\n"
          ]
        },
        {
          "output_type": "execute_result",
          "data": {
            "text/plain": [
              "<keras.callbacks.History at 0x7fd960523c10>"
            ]
          },
          "metadata": {},
          "execution_count": 44
        }
      ]
    },
    {
      "cell_type": "code",
      "source": [
        "my_model.evaluate(X_test,y_test)"
      ],
      "metadata": {
        "colab": {
          "base_uri": "https://localhost:8080/"
        },
        "id": "AX4uAGj9IvEv",
        "outputId": "2721d8a6-dd78-496b-f4f8-faa718df8544"
      },
      "execution_count": null,
      "outputs": [
        {
          "output_type": "stream",
          "name": "stdout",
          "text": [
            "2/2 [==============================] - 16s 1s/step - loss: 0.0454 - accuracy: 0.9714\n"
          ]
        },
        {
          "output_type": "execute_result",
          "data": {
            "text/plain": [
              "[0.04542142152786255, 0.9714285731315613]"
            ]
          },
          "metadata": {},
          "execution_count": 45
        }
      ]
    },
    {
      "cell_type": "code",
      "source": [
        "y_hat = my_model.predict(X_test)"
      ],
      "metadata": {
        "id": "GN-glpxxIxsi"
      },
      "execution_count": null,
      "outputs": []
    },
    {
      "cell_type": "code",
      "source": [
        "print(classification_report(np.argmax(y_test,axis=1),np.argmax(y_hat,axis=1)))"
      ],
      "metadata": {
        "id": "wlibLCI4Iz6X"
      },
      "execution_count": null,
      "outputs": []
    },
    {
      "cell_type": "code",
      "source": [
        "print(confusion_matrix(np.argmax(y_test,axis=1),np.argmax(y_hat,axis=1)))"
      ],
      "metadata": {
        "colab": {
          "base_uri": "https://localhost:8080/"
        },
        "id": "_RFgwlsqI0GY",
        "outputId": "76e9f158-a5cd-4d7b-a8eb-0d3e5f7ae4fd"
      },
      "execution_count": null,
      "outputs": [
        {
          "output_type": "stream",
          "name": "stdout",
          "text": [
            "[[15  0]\n",
            " [ 1 19]]\n"
          ]
        }
      ]
    },
    {
      "cell_type": "code",
      "source": [
        ""
      ],
      "metadata": {
        "id": "fjyGNQqSI6Tu"
      },
      "execution_count": null,
      "outputs": []
    }
  ]
}